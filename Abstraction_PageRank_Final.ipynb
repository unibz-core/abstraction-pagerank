{
  "nbformat": 4,
  "nbformat_minor": 0,
  "metadata": {
    "colab": {
      "name": "Abstraction-PageRank-Final.ipynb",
      "provenance": [],
      "collapsed_sections": [],
      "authorship_tag": "ABX9TyPXYnZmJSs+C656NUEUlRIT",
      "include_colab_link": true
    },
    "kernelspec": {
      "display_name": "Python 3",
      "name": "python3"
    },
    "language_info": {
      "name": "python"
    }
  },
  "cells": [
    {
      "cell_type": "markdown",
      "metadata": {
        "id": "view-in-github",
        "colab_type": "text"
      },
      "source": [
        "<a href=\"https://colab.research.google.com/github/guylerme/abstraction-pagerank/blob/main/Abstraction_PageRank_Final.ipynb\" target=\"_parent\"><img src=\"https://colab.research.google.com/assets/colab-badge.svg\" alt=\"Open In Colab\"/></a>"
      ]
    },
    {
      "cell_type": "markdown",
      "metadata": {
        "id": "JHsaBS_bDF_-"
      },
      "source": [
        "Packages install"
      ]
    },
    {
      "cell_type": "code",
      "metadata": {
        "colab": {
          "base_uri": "https://localhost:8080/"
        },
        "id": "NL2RjvFulb6v",
        "outputId": "12a66ce3-d720-4c70-fef4-19c7540752f3"
      },
      "source": [
        "pip install pyspark"
      ],
      "execution_count": 1,
      "outputs": [
        {
          "output_type": "stream",
          "name": "stdout",
          "text": [
            "Collecting pyspark\n",
            "  Downloading pyspark-3.2.0.tar.gz (281.3 MB)\n",
            "\u001b[K     |████████████████████████████████| 281.3 MB 40 kB/s \n",
            "\u001b[?25hCollecting py4j==0.10.9.2\n",
            "  Downloading py4j-0.10.9.2-py2.py3-none-any.whl (198 kB)\n",
            "\u001b[K     |████████████████████████████████| 198 kB 49.2 MB/s \n",
            "\u001b[?25hBuilding wheels for collected packages: pyspark\n",
            "  Building wheel for pyspark (setup.py) ... \u001b[?25l\u001b[?25hdone\n",
            "  Created wheel for pyspark: filename=pyspark-3.2.0-py2.py3-none-any.whl size=281805912 sha256=d09e7650dc3cfec635fc5e4798ef08f335010dcce29396a091456e6997a4b42f\n",
            "  Stored in directory: /root/.cache/pip/wheels/0b/de/d2/9be5d59d7331c6c2a7c1b6d1a4f463ce107332b1ecd4e80718\n",
            "Successfully built pyspark\n",
            "Installing collected packages: py4j, pyspark\n",
            "Successfully installed py4j-0.10.9.2 pyspark-3.2.0\n"
          ]
        }
      ]
    },
    {
      "cell_type": "markdown",
      "metadata": {
        "id": "KxtPeyotSuro"
      },
      "source": [
        "Import Libraries"
      ]
    },
    {
      "cell_type": "code",
      "metadata": {
        "id": "lZmGO0h0SylZ"
      },
      "source": [
        "from google.colab import files\n",
        "import os\n",
        "\n",
        "import json"
      ],
      "execution_count": 2,
      "outputs": []
    },
    {
      "cell_type": "code",
      "metadata": {
        "id": "b7MVQvyqiBL-"
      },
      "source": [
        "from pyspark.sql import *\n",
        "from pyspark import SparkContext\n",
        "from pyspark import SparkConf\n",
        "from pyspark.sql.functions import col,lit,when,concat_ws\n",
        "from pyspark.sql.types import *\n",
        "import pyspark.sql.functions as F\n",
        "import math"
      ],
      "execution_count": 3,
      "outputs": []
    },
    {
      "cell_type": "markdown",
      "metadata": {
        "id": "cUElKohwOlQp"
      },
      "source": [
        "Load model"
      ]
    },
    {
      "cell_type": "code",
      "metadata": {
        "colab": {
          "resources": {
            "http://localhost:8080/nbextensions/google.colab/files.js": {
              "data": "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",
              "ok": true,
              "headers": [
                [
                  "content-type",
                  "application/javascript"
                ]
              ],
              "status": 200,
              "status_text": "OK"
            }
          },
          "base_uri": "https://localhost:8080/",
          "height": 92
        },
        "id": "p3RLFZO8OtxG",
        "outputId": "c8ba4ed1-7ea1-4b76-8a15-388a20bae090"
      },
      "source": [
        "uploaded = files.upload()\n",
        "\n",
        "for fn in uploaded.keys():\n",
        "  print('User uploaded file \"{name}\" with length {length} bytes'.format(\n",
        "      name=fn, length=len(uploaded[fn])))\n",
        "  os.rename(fn, 'model.json')"
      ],
      "execution_count": 4,
      "outputs": [
        {
          "output_type": "display_data",
          "data": {
            "text/html": [
              "\n",
              "     <input type=\"file\" id=\"files-640a4ff1-1663-4fa1-9d4c-1986cf66bf78\" name=\"files[]\" multiple disabled\n",
              "        style=\"border:none\" />\n",
              "     <output id=\"result-640a4ff1-1663-4fa1-9d4c-1986cf66bf78\">\n",
              "      Upload widget is only available when the cell has been executed in the\n",
              "      current browser session. Please rerun this cell to enable.\n",
              "      </output>\n",
              "      <script src=\"/nbextensions/google.colab/files.js\"></script> "
            ],
            "text/plain": [
              "<IPython.core.display.HTML object>"
            ]
          },
          "metadata": {}
        },
        {
          "output_type": "stream",
          "name": "stdout",
          "text": [
            "Saving maestro--permissoes.json to maestro--permissoes.json\n",
            "User uploaded file \"maestro--permissoes.json\" with length 787 bytes\n"
          ]
        }
      ]
    },
    {
      "cell_type": "code",
      "metadata": {
        "id": "jyxE9F5VQgK1",
        "colab": {
          "base_uri": "https://localhost:8080/",
          "height": 358
        },
        "outputId": "2d3d1b13-ee46-412e-d407-04d8ba7d024f"
      },
      "source": [
        "# Opening JSON file\n",
        "f = open('model.json')\n",
        " \n",
        "# returns JSON object as\n",
        "# a dictionary\n",
        "model = json.load(f)"
      ],
      "execution_count": 6,
      "outputs": [
        {
          "output_type": "error",
          "ename": "JSONDecodeError",
          "evalue": "ignored",
          "traceback": [
            "\u001b[0;31m---------------------------------------------------------------------------\u001b[0m",
            "\u001b[0;31mJSONDecodeError\u001b[0m                           Traceback (most recent call last)",
            "\u001b[0;32m<ipython-input-6-aa2f67d9575c>\u001b[0m in \u001b[0;36m<module>\u001b[0;34m()\u001b[0m\n\u001b[1;32m      4\u001b[0m \u001b[0;31m# returns JSON object as\u001b[0m\u001b[0;34m\u001b[0m\u001b[0;34m\u001b[0m\u001b[0;34m\u001b[0m\u001b[0m\n\u001b[1;32m      5\u001b[0m \u001b[0;31m# a dictionary\u001b[0m\u001b[0;34m\u001b[0m\u001b[0;34m\u001b[0m\u001b[0;34m\u001b[0m\u001b[0m\n\u001b[0;32m----> 6\u001b[0;31m \u001b[0mmodel\u001b[0m \u001b[0;34m=\u001b[0m \u001b[0mjson\u001b[0m\u001b[0;34m.\u001b[0m\u001b[0mload\u001b[0m\u001b[0;34m(\u001b[0m\u001b[0mf\u001b[0m\u001b[0;34m)\u001b[0m\u001b[0;34m\u001b[0m\u001b[0;34m\u001b[0m\u001b[0m\n\u001b[0m",
            "\u001b[0;32m/usr/lib/python3.7/json/__init__.py\u001b[0m in \u001b[0;36mload\u001b[0;34m(fp, cls, object_hook, parse_float, parse_int, parse_constant, object_pairs_hook, **kw)\u001b[0m\n\u001b[1;32m    294\u001b[0m         \u001b[0mcls\u001b[0m\u001b[0;34m=\u001b[0m\u001b[0mcls\u001b[0m\u001b[0;34m,\u001b[0m \u001b[0mobject_hook\u001b[0m\u001b[0;34m=\u001b[0m\u001b[0mobject_hook\u001b[0m\u001b[0;34m,\u001b[0m\u001b[0;34m\u001b[0m\u001b[0;34m\u001b[0m\u001b[0m\n\u001b[1;32m    295\u001b[0m         \u001b[0mparse_float\u001b[0m\u001b[0;34m=\u001b[0m\u001b[0mparse_float\u001b[0m\u001b[0;34m,\u001b[0m \u001b[0mparse_int\u001b[0m\u001b[0;34m=\u001b[0m\u001b[0mparse_int\u001b[0m\u001b[0;34m,\u001b[0m\u001b[0;34m\u001b[0m\u001b[0;34m\u001b[0m\u001b[0m\n\u001b[0;32m--> 296\u001b[0;31m         parse_constant=parse_constant, object_pairs_hook=object_pairs_hook, **kw)\n\u001b[0m\u001b[1;32m    297\u001b[0m \u001b[0;34m\u001b[0m\u001b[0m\n\u001b[1;32m    298\u001b[0m \u001b[0;34m\u001b[0m\u001b[0m\n",
            "\u001b[0;32m/usr/lib/python3.7/json/__init__.py\u001b[0m in \u001b[0;36mloads\u001b[0;34m(s, encoding, cls, object_hook, parse_float, parse_int, parse_constant, object_pairs_hook, **kw)\u001b[0m\n\u001b[1;32m    336\u001b[0m         \u001b[0;32mif\u001b[0m \u001b[0ms\u001b[0m\u001b[0;34m.\u001b[0m\u001b[0mstartswith\u001b[0m\u001b[0;34m(\u001b[0m\u001b[0;34m'\\ufeff'\u001b[0m\u001b[0;34m)\u001b[0m\u001b[0;34m:\u001b[0m\u001b[0;34m\u001b[0m\u001b[0;34m\u001b[0m\u001b[0m\n\u001b[1;32m    337\u001b[0m             raise JSONDecodeError(\"Unexpected UTF-8 BOM (decode using utf-8-sig)\",\n\u001b[0;32m--> 338\u001b[0;31m                                   s, 0)\n\u001b[0m\u001b[1;32m    339\u001b[0m     \u001b[0;32melse\u001b[0m\u001b[0;34m:\u001b[0m\u001b[0;34m\u001b[0m\u001b[0;34m\u001b[0m\u001b[0m\n\u001b[1;32m    340\u001b[0m         \u001b[0;32mif\u001b[0m \u001b[0;32mnot\u001b[0m \u001b[0misinstance\u001b[0m\u001b[0;34m(\u001b[0m\u001b[0ms\u001b[0m\u001b[0;34m,\u001b[0m \u001b[0;34m(\u001b[0m\u001b[0mbytes\u001b[0m\u001b[0;34m,\u001b[0m \u001b[0mbytearray\u001b[0m\u001b[0;34m)\u001b[0m\u001b[0;34m)\u001b[0m\u001b[0;34m:\u001b[0m\u001b[0;34m\u001b[0m\u001b[0;34m\u001b[0m\u001b[0m\n",
            "\u001b[0;31mJSONDecodeError\u001b[0m: Unexpected UTF-8 BOM (decode using utf-8-sig): line 1 column 1 (char 0)"
          ]
        }
      ]
    },
    {
      "cell_type": "markdown",
      "source": [
        "Define the diagram"
      ],
      "metadata": {
        "id": "4yIFLmq9KW1g"
      }
    },
    {
      "cell_type": "code",
      "metadata": {
        "id": "sqwxPrpmh5MO"
      },
      "source": [
        "diagram_name = \"PageRank-Remove Material Relations\" #@param {type:\"string\"}\n",
        "#set diagram name\n",
        "if (diagram_name == ''):\n",
        "  diagram_name='PageRank-Remove Material Relations'"
      ],
      "execution_count": 8,
      "outputs": []
    },
    {
      "cell_type": "markdown",
      "source": [
        "Get all Classes"
      ],
      "metadata": {
        "id": "T-cp9ofmKbVv"
      }
    },
    {
      "cell_type": "code",
      "metadata": {
        "id": "qTd5EGqrvrUD"
      },
      "source": [
        "def getModelClassElement(model, id):\n",
        "  #print(id)\n",
        "  for package in model['contents']:\n",
        "    if (package['name'] != None) & (package['type']=='Package'):\n",
        "      #print(package['name'])\n",
        "      if package['contents'] != None:\n",
        "        #print(package['contents'])\n",
        "        for element in package['contents']:\n",
        "          if (element['id'] == id) & (element['type']=='Class'):\n",
        "            #print(element['name'])\n",
        "            return element['name']\n",
        "  return None"
      ],
      "execution_count": null,
      "outputs": []
    },
    {
      "cell_type": "code",
      "metadata": {
        "id": "MOQIlArsS57I"
      },
      "source": [
        "classes=[]\n",
        "for element in model['diagrams']:\n",
        "  if element['name'] == diagram_name:\n",
        "    for elem in element['contents']:\n",
        "      if elem['type'] == 'ClassView':\n",
        "        classElement = getModelClassElement(model['model'], elem['modelElement']['id'])\n",
        "        classes.append(classElement)\n",
        "      elif(elem['type'] == 'Class'):\n",
        "        classes.append(elem['name'])\n",
        "        #print(elem)"
      ],
      "execution_count": null,
      "outputs": []
    },
    {
      "cell_type": "markdown",
      "source": [
        "Get all Generalizations"
      ],
      "metadata": {
        "id": "q3J_sYDlKeM1"
      }
    },
    {
      "cell_type": "code",
      "source": [
        "def getModelGeneralizationElement(model, id):\n",
        "  for package in model['contents']:\n",
        "    if (package['name'] != None) & (package['type']=='Package'):\n",
        "      #print(package['name'])\n",
        "      if package['contents'] != None:\n",
        "        #print(package['contents'])\n",
        "        for element in package['contents']:\n",
        "          if (element['id'] == id) & (element['type']=='Generalization'):\n",
        "            #print(element['name'])\n",
        "            general = getModelClassElement(model, element['general']['id'])\n",
        "            specific = getModelClassElement(model, element['specific']['id'])\n",
        "            return general, specific;\n",
        "  return None"
      ],
      "metadata": {
        "id": "FGOw0XYzBznp"
      },
      "execution_count": null,
      "outputs": []
    },
    {
      "cell_type": "code",
      "source": [
        "generalizations=[]\n",
        "for element in model['diagrams']:\n",
        "  if element['name'] == diagram_name:\n",
        "    for elem in element['contents']:\n",
        "      if (elem['type'] == 'GeneralizationView') | (elem['type'] == 'Generalization'):\n",
        "        general, specific = getModelGeneralizationElement(model['model'], elem['modelElement']['id'])\n",
        "        gen = (general, specific, 'GL')\n",
        "        genR = (specific, general, 'GLr')\n",
        "        generalizations.append(gen)\n",
        "        generalizations.append(genR)"
      ],
      "metadata": {
        "id": "g3Tygdp7F3It"
      },
      "execution_count": null,
      "outputs": []
    },
    {
      "cell_type": "markdown",
      "source": [
        "Get all Relations"
      ],
      "metadata": {
        "id": "nHC4f_pqKgYj"
      }
    },
    {
      "cell_type": "code",
      "source": [
        "def getModelRelationElement(model, id):\n",
        "  for package in model['contents']:\n",
        "    if (package['name'] != None) & (package['type']=='Package'):\n",
        "      #print(package['name'])\n",
        "      if package['contents'] != None:\n",
        "        #print(package['contents'])\n",
        "        for element in package['contents']:\n",
        "          if (element['id'] == id) & (element['type']=='Relation'):\n",
        "            #print(element['name'])\n",
        "            source = getModelClassElement(model, element['properties'][0]['propertyType']['id'])\n",
        "            target = getModelClassElement(model, element['properties'][1]['propertyType']['id'])\n",
        "            return source, target;\n",
        "  return None"
      ],
      "metadata": {
        "id": "U2P6baB6GwqL"
      },
      "execution_count": null,
      "outputs": []
    },
    {
      "cell_type": "code",
      "source": [
        "relations=[]\n",
        "for element in model['diagrams']:\n",
        "  if element['name'] == diagram_name:\n",
        "    for elem in element['contents']:\n",
        "      if (elem['type'] == 'RelationView') | (elem['type'] == 'Relation'):\n",
        "        source, target = getModelRelationElement(model['model'], elem['modelElement']['id'])\n",
        "        rel = (source, target, 'AS')\n",
        "        relations.append(rel)\n",
        "        rel = (target, source, 'AS')\n",
        "        relations.append(rel)"
      ],
      "metadata": {
        "id": "Ryvh5Y0CI8bb"
      },
      "execution_count": null,
      "outputs": []
    },
    {
      "cell_type": "markdown",
      "source": [
        "Define Spark Context"
      ],
      "metadata": {
        "id": "XEuml5HYMlBg"
      }
    },
    {
      "cell_type": "code",
      "metadata": {
        "id": "Lk64xIpIsJXx"
      },
      "source": [
        "sc = SparkContext('local')\n",
        "spark = SparkSession(sc)"
      ],
      "execution_count": null,
      "outputs": []
    },
    {
      "cell_type": "markdown",
      "source": [
        "Create Class Dataframe"
      ],
      "metadata": {
        "id": "DAJEZLtJMm_6"
      }
    },
    {
      "cell_type": "code",
      "metadata": {
        "id": "q1RHc29IlADK"
      },
      "source": [
        "classRow=Row(\"id\", \"name\", \"rc\")\n",
        "classSeq=[]\n",
        "\n",
        "i=0\n",
        "for c in classes:\n",
        "  classX = classRow(i, c, 1000/len(classes))\n",
        "  classSeq.append(classX)\n",
        "  i=i+1"
      ],
      "execution_count": null,
      "outputs": []
    },
    {
      "cell_type": "code",
      "metadata": {
        "id": "tNZZOSSmqFIU"
      },
      "source": [
        "df = spark.createDataFrame(classSeq)"
      ],
      "execution_count": null,
      "outputs": []
    },
    {
      "cell_type": "code",
      "metadata": {
        "colab": {
          "base_uri": "https://localhost:8080/"
        },
        "id": "Qgz7ufcMrZ2C",
        "outputId": "a0174ec3-6325-4d4d-9caf-2bb1318f5048"
      },
      "source": [
        "df.show()"
      ],
      "execution_count": null,
      "outputs": [
        {
          "output_type": "stream",
          "name": "stdout",
          "text": [
            "+---+--------------------+------------------+\n",
            "| id|                name|                rc|\n",
            "+---+--------------------+------------------+\n",
            "|  0|              Parent|14.925373134328359|\n",
            "|  1|               Woman|14.925373134328359|\n",
            "|  2|          Car Agency|14.925373134328359|\n",
            "|  3|           Cargo Car|14.925373134328359|\n",
            "|  4|Closed Car Rental...|14.925373134328359|\n",
            "|  5|Car Needing Maint...|14.925373134328359|\n",
            "|  6|Extented Car Rent...|14.925373134328359|\n",
            "|  7|                Wife|14.925373134328359|\n",
            "|  8|Maintenance Appoi...|14.925373134328359|\n",
            "|  9|       Sender Branch|14.925373134328359|\n",
            "| 10|               Child|14.925373134328359|\n",
            "| 11|  Corporate Customer|14.925373134328359|\n",
            "| 12|            Customer|14.925373134328359|\n",
            "| 13|    Car Manufacturer|14.925373134328359|\n",
            "| 14|       Passenger Car|14.925373134328359|\n",
            "| 15|      Insured Driver|14.925373134328359|\n",
            "| 16|             Teenage|14.925373134328359|\n",
            "| 17|   Organization Unit|14.925373134328359|\n",
            "| 18|   Insurance Company|14.925373134328359|\n",
            "| 19|        Organization|14.925373134328359|\n",
            "+---+--------------------+------------------+\n",
            "only showing top 20 rows\n",
            "\n"
          ]
        }
      ]
    },
    {
      "cell_type": "markdown",
      "metadata": {
        "id": "vWJDZvDhDRWF"
      },
      "source": [
        "Creating a Relationship Type Data Frame"
      ]
    },
    {
      "cell_type": "code",
      "metadata": {
        "id": "L5VTv75csQXy"
      },
      "source": [
        "relationshipTypes=Row(\"cd_type\",\"nm_type\", \"rr\")\n",
        "relationshipType1 = relationshipTypes('AG','Aggregation', 7)\n",
        "relationshipType2 = relationshipTypes('DP', 'Dependency',8)\n",
        "relationshipType3 = relationshipTypes('GL', 'Generalization', 10)\n",
        "relationshipType4 = relationshipTypes('AS', 'Association', 5)\n",
        "relationshipType5 = relationshipTypes('AGr', 'Agreggation Reverse', 7)\n",
        "relationshipType6 = relationshipTypes('DPr', 'Dependency Reverse', 8)\n",
        "relationshipType7 = relationshipTypes('GLr', 'Generalization Reverse', 10)"
      ],
      "execution_count": null,
      "outputs": []
    },
    {
      "cell_type": "code",
      "metadata": {
        "id": "_KMeKuN5ygmV"
      },
      "source": [
        "relationTypeSeq=[relationshipType1,relationshipType2,relationshipType3,relationshipType4,relationshipType5,relationshipType6,relationshipType7]"
      ],
      "execution_count": null,
      "outputs": []
    },
    {
      "cell_type": "code",
      "metadata": {
        "id": "YIcJixF6yss5"
      },
      "source": [
        "dfRt = spark.createDataFrame(relationTypeSeq)"
      ],
      "execution_count": null,
      "outputs": []
    },
    {
      "cell_type": "code",
      "metadata": {
        "colab": {
          "base_uri": "https://localhost:8080/"
        },
        "id": "u0L8_wVay0ce",
        "outputId": "2fe65c05-3282-47f2-d2f6-2d5d433c8364"
      },
      "source": [
        "dfRt.show()"
      ],
      "execution_count": null,
      "outputs": [
        {
          "output_type": "stream",
          "name": "stdout",
          "text": [
            "+-------+--------------------+---+\n",
            "|cd_type|             nm_type| rr|\n",
            "+-------+--------------------+---+\n",
            "|     AG|         Aggregation|  7|\n",
            "|     DP|          Dependency|  8|\n",
            "|     GL|      Generalization| 10|\n",
            "|     AS|         Association|  5|\n",
            "|    AGr| Agreggation Reverse|  7|\n",
            "|    DPr|  Dependency Reverse|  8|\n",
            "|    GLr|Generalization Re...| 10|\n",
            "+-------+--------------------+---+\n",
            "\n"
          ]
        }
      ]
    },
    {
      "cell_type": "markdown",
      "metadata": {
        "id": "Ne4edtc8DVKp"
      },
      "source": [
        "Creating a Relationship Data Frame"
      ]
    },
    {
      "cell_type": "code",
      "metadata": {
        "id": "Bcwbf8cQkoTQ"
      },
      "source": [
        "relationshipRow=Row(\"id\",\"source\", \"target\", \"cd_type\")\n",
        "relationshipSeq=[]\n",
        "\n",
        "i=0\n",
        "for r in relations:\n",
        "  relationX = relationshipRow(i, r[0], r[1], r[2])\n",
        "  relationshipSeq.append(relationX)\n",
        "  i=i+1\n",
        "\n",
        "i=0\n",
        "for r in generalizations:\n",
        "  relationX = relationshipRow(i, r[0], r[1], r[2])\n",
        "  relationshipSeq.append(relationX)\n",
        "  i=i+1"
      ],
      "execution_count": null,
      "outputs": []
    },
    {
      "cell_type": "code",
      "metadata": {
        "id": "wjCaXu3_sYLK"
      },
      "source": [
        "dfR = spark.createDataFrame(relationshipSeq)"
      ],
      "execution_count": null,
      "outputs": []
    },
    {
      "cell_type": "code",
      "source": [
        "dfR.show()"
      ],
      "metadata": {
        "colab": {
          "base_uri": "https://localhost:8080/"
        },
        "id": "M6N2fVDRNnVQ",
        "outputId": "b1b2dba5-6946-4a8e-8764-b60803170cbe"
      },
      "execution_count": null,
      "outputs": [
        {
          "output_type": "stream",
          "name": "stdout",
          "text": [
            "+---+--------------------+--------------------+-------+\n",
            "| id|              source|              target|cd_type|\n",
            "+---+--------------------+--------------------+-------+\n",
            "|  0|Car Rental Agreement|      Functional Car|     AS|\n",
            "|  1|      Functional Car|Car Rental Agreement|     AS|\n",
            "|  2|       Car Ownership|                 Car|     AS|\n",
            "|  3|                 Car|       Car Ownership|     AS|\n",
            "|  4| Employment Contract|            Employee|     AS|\n",
            "|  5|            Employee| Employment Contract|     AS|\n",
            "|  6| Employment Contract|        Organization|     AS|\n",
            "|  7|        Organization| Employment Contract|     AS|\n",
            "|  8|   Website Ownership|        Organization|     AS|\n",
            "|  9|        Organization|   Website Ownership|     AS|\n",
            "| 10|       Damage Report|         Damaged Car|     AS|\n",
            "| 11|         Damaged Car|       Damage Report|     AS|\n",
            "| 12|             Husband|            Marriage|     AS|\n",
            "| 13|            Marriage|             Husband|     AS|\n",
            "| 14|    Rental Insurance|      Insured Driver|     AS|\n",
            "| 15|      Insured Driver|    Rental Insurance|     AS|\n",
            "| 16|           Insurance|   Insurance Company|     AS|\n",
            "| 17|   Insurance Company|           Insurance|     AS|\n",
            "| 18|  Transfer Agreement|     Receiver Branch|     AS|\n",
            "| 19|     Receiver Branch|  Transfer Agreement|     AS|\n",
            "+---+--------------------+--------------------+-------+\n",
            "only showing top 20 rows\n",
            "\n"
          ]
        }
      ]
    },
    {
      "cell_type": "markdown",
      "metadata": {
        "id": "76EhRTzasnvj"
      },
      "source": [
        "Function to verify if exists relationship between the classes"
      ]
    },
    {
      "cell_type": "code",
      "metadata": {
        "id": "ZG6k5_Enq-VU"
      },
      "source": [
        "def existsRelationship(sourceClass, targetClass):\n",
        "  total = dfR.filter(\"source =='\" + sourceClass + \"' and target == '\" + targetClass + \"'\").count()\n",
        "  if (total > 0):\n",
        "    return True\n",
        "  return False\n",
        "  "
      ],
      "execution_count": null,
      "outputs": []
    },
    {
      "cell_type": "markdown",
      "metadata": {
        "id": "pnIh2abPIAx6"
      },
      "source": [
        "Function Ranks of Relationship. \n",
        "Initially was defined constant values such as the paper"
      ]
    },
    {
      "cell_type": "code",
      "metadata": {
        "id": "D7qd1qAJkcF1"
      },
      "source": [
        "def rr(sourceClass,targetClass):\n",
        "  sql = \"source == '\" + sourceClass + \"' and target == '\"  + targetClass + \"'\"\n",
        "  if (existsRelationship(sourceClass, targetClass)):\n",
        "    return dfR.join(dfRt, dfR.cd_type == dfRt.cd_type).where(sql).select('rr').first()[0]\n",
        "  return 0\n"
      ],
      "execution_count": null,
      "outputs": []
    },
    {
      "cell_type": "markdown",
      "metadata": {
        "id": "Z64gM7bDIUG6"
      },
      "source": [
        "Function to return the sum of all Ranks of Relationships"
      ]
    },
    {
      "cell_type": "code",
      "metadata": {
        "id": "z9SdbEm-yCJY"
      },
      "source": [
        "def allRr(sourceClass):\n",
        "  return dfR.join(dfRt, dfR.cd_type == dfRt.cd_type).filter(\"source == '\" + sourceClass + \"'\").groupBy().sum('rr').first()[0]"
      ],
      "execution_count": null,
      "outputs": []
    },
    {
      "cell_type": "markdown",
      "metadata": {
        "id": "HRM-D0ouIanf"
      },
      "source": [
        "Function to calculate the Transition Probability"
      ]
    },
    {
      "cell_type": "code",
      "metadata": {
        "id": "FGOUzDWxy19i"
      },
      "source": [
        "def tp(sourceClass,targetClass):\n",
        "  if (existsRelationship(sourceClass, targetClass)):\n",
        "    return (rr(sourceClass,targetClass))/(allRr(sourceClass))\n",
        "  return 0"
      ],
      "execution_count": null,
      "outputs": []
    },
    {
      "cell_type": "markdown",
      "metadata": {
        "id": "wHeeH8bTmZAl"
      },
      "source": [
        "Function to get all Relationships where the class is source"
      ]
    },
    {
      "cell_type": "code",
      "metadata": {
        "id": "zUHRm_j7IifK"
      },
      "source": [
        "def getRelationshipTargets(sourceClass):\n",
        "  if (isinstance(sourceClass, str)):\n",
        "    return dfR.filter(\"source == '\"+sourceClass+\"'\").select('target').collect()\n",
        "  return dfR.filter(\"source == '\"+sourceClass.target+\"'\").select('target').collect()"
      ],
      "execution_count": null,
      "outputs": []
    },
    {
      "cell_type": "markdown",
      "metadata": {
        "id": "2G6_GtyfprzH"
      },
      "source": [
        "Initializing the Class Rank Vector with starting value"
      ]
    },
    {
      "cell_type": "code",
      "metadata": {
        "id": "DE3Epukam5eI"
      },
      "source": [
        "classRankVector=Row(\"class\", \"rc\")\n",
        "classRcSeq = []\n",
        "totalOfClasses = df.count()\n",
        "for c in df.collect():\n",
        "  classRc =classRankVector(c['name'], 1000/totalOfClasses)\n",
        "  classRcSeq.append( classRc)\n",
        "\n",
        "dfCRc = spark.createDataFrame(classRcSeq)"
      ],
      "execution_count": null,
      "outputs": []
    },
    {
      "cell_type": "code",
      "metadata": {
        "colab": {
          "base_uri": "https://localhost:8080/"
        },
        "id": "0x6etdyppjcL",
        "outputId": "36857349-da14-45f5-d77e-cc11c17b2d76"
      },
      "source": [
        "dfCRc.show()"
      ],
      "execution_count": null,
      "outputs": [
        {
          "output_type": "stream",
          "name": "stdout",
          "text": [
            "+--------------------+------------------+\n",
            "|               class|                rc|\n",
            "+--------------------+------------------+\n",
            "|              Parent|14.925373134328359|\n",
            "|               Woman|14.925373134328359|\n",
            "|          Car Agency|14.925373134328359|\n",
            "|           Cargo Car|14.925373134328359|\n",
            "|Closed Car Rental...|14.925373134328359|\n",
            "|Car Needing Maint...|14.925373134328359|\n",
            "|Extented Car Rent...|14.925373134328359|\n",
            "|                Wife|14.925373134328359|\n",
            "|Maintenance Appoi...|14.925373134328359|\n",
            "|       Sender Branch|14.925373134328359|\n",
            "|               Child|14.925373134328359|\n",
            "|  Corporate Customer|14.925373134328359|\n",
            "|            Customer|14.925373134328359|\n",
            "|    Car Manufacturer|14.925373134328359|\n",
            "|       Passenger Car|14.925373134328359|\n",
            "|      Insured Driver|14.925373134328359|\n",
            "|             Teenage|14.925373134328359|\n",
            "|   Organization Unit|14.925373134328359|\n",
            "|   Insurance Company|14.925373134328359|\n",
            "|        Organization|14.925373134328359|\n",
            "+--------------------+------------------+\n",
            "only showing top 20 rows\n",
            "\n"
          ]
        }
      ]
    },
    {
      "cell_type": "markdown",
      "metadata": {
        "id": "VquhpNmC03Bb"
      },
      "source": [
        "Creating the Transition Probability Matrix"
      ]
    },
    {
      "cell_type": "code",
      "metadata": {
        "id": "NzNjA9BdIiMJ"
      },
      "source": [
        "dfTpMatrixTemp = dfCRc.withColumnRenamed('class', 'source').join(dfCRc.withColumnRenamed('class', 'target')).select('source', 'target')\n",
        "dfTpMR=Row(\"source\", \"target\", \"tp\")\n",
        "dfTpMSeq = []\n",
        "for c in dfTpMatrixTemp.collect():\n",
        "  m = dfTpMR(c['source'],c['target'], float(tp(c['source'],c['target'])))\n",
        "  dfTpMSeq.append(m)\n",
        "\n",
        "\n",
        "df_schema = StructType([StructField(\"source\", StringType(), True)\\\n",
        "                       ,StructField(\"target\", StringType(), True)\\\n",
        "                       ,StructField(\"tp\", DoubleType(), True)])\n",
        " \n",
        "\n",
        "dfTpMatrix = spark.createDataFrame(dfTpMSeq,df_schema )"
      ],
      "execution_count": null,
      "outputs": []
    },
    {
      "cell_type": "markdown",
      "source": [
        "Function to get the Class Rank"
      ],
      "metadata": {
        "id": "yyk71wtoR5VF"
      }
    },
    {
      "cell_type": "code",
      "metadata": {
        "id": "tuAoi66ok367"
      },
      "source": [
        "def getRc(classname):\n",
        "  return dfCRc.filter(\"class == '\" + classname + \"'\").select('rc').first()[0]"
      ],
      "execution_count": null,
      "outputs": []
    },
    {
      "cell_type": "markdown",
      "source": [
        "Function to get the Transition Probability"
      ],
      "metadata": {
        "id": "cHi_Dv9pSB39"
      }
    },
    {
      "cell_type": "code",
      "metadata": {
        "id": "cCWMaGu6FrmF"
      },
      "source": [
        "def getTpMatrix(source, target):\n",
        "  return dfTpMatrix.filter(\"source == '\" + source + \"' and target == '\" + target + \"'\").select('tp').first()[0]"
      ],
      "execution_count": null,
      "outputs": []
    },
    {
      "cell_type": "markdown",
      "source": [
        "Function to Calculate Class Rank"
      ],
      "metadata": {
        "id": "OPZTHQWqSJJE"
      }
    },
    {
      "cell_type": "code",
      "metadata": {
        "id": "UCc0tpzcJQ9D"
      },
      "source": [
        " def calculateRc(dfCRc):\n",
        "   new_classseq = []\n",
        "   for source in dfCRc.collect():\n",
        "     new_rc = 0\n",
        "     for target in dfTpMatrix.filter(\"source =='\" + source['class'] + \"' and tp > 0\" ).collect():\n",
        "       new_rc = new_rc + (getRc(target['target']) * getTpMatrix(target['target'], target['source']))\n",
        "\n",
        "     classX = classRankVector(source['class'], new_rc)\n",
        "     new_classseq.append(classX)\n",
        "\n",
        "   new_df = spark.createDataFrame(new_classseq)\n",
        "   return new_df\n",
        "\n"
      ],
      "execution_count": null,
      "outputs": []
    },
    {
      "cell_type": "markdown",
      "source": [
        "Calculating Class Rank in interactions"
      ],
      "metadata": {
        "id": "-7x1v6ZjSieK"
      }
    },
    {
      "cell_type": "code",
      "metadata": {
        "colab": {
          "base_uri": "https://localhost:8080/"
        },
        "id": "MPUWu3YHJSUJ",
        "outputId": "9b26ccf9-7c75-4b57-eb64-3db526c93597"
      },
      "source": [
        "for x in range(10):\n",
        "  df_2 = calculateRc(dfCRc)\n",
        "  dfCRc = df_2\n",
        "\n",
        "dfCRc.show()\n"
      ],
      "execution_count": null,
      "outputs": [
        {
          "output_type": "stream",
          "name": "stdout",
          "text": [
            "+--------------------+------------------+\n",
            "|               class|                rc|\n",
            "+--------------------+------------------+\n",
            "|              Parent|10.291568398706499|\n",
            "|               Woman|14.496725631379643|\n",
            "|          Car Agency|11.508631541613926|\n",
            "|           Cargo Car|  8.66752489961041|\n",
            "|Closed Car Rental...|16.745878187909636|\n",
            "|Car Needing Maint...|17.844912100590797|\n",
            "|Extented Car Rent...| 8.061979651739907|\n",
            "|                Wife|11.847585933209292|\n",
            "|Maintenance Appoi...| 9.101235046774953|\n",
            "|       Sender Branch|13.376511224137477|\n",
            "|               Child|10.291568398706499|\n",
            "|  Corporate Customer|15.203910646067952|\n",
            "|            Customer|  16.5639324821803|\n",
            "|    Car Manufacturer|11.508631541613926|\n",
            "|       Passenger Car|  8.66752489961041|\n",
            "|      Insured Driver| 10.34833348425134|\n",
            "|             Teenage| 8.115759892207357|\n",
            "|   Organization Unit|26.114888295788738|\n",
            "|   Insurance Company|12.106193871610426|\n",
            "|        Organization|48.883246545845864|\n",
            "+--------------------+------------------+\n",
            "only showing top 20 rows\n",
            "\n"
          ]
        }
      ]
    },
    {
      "cell_type": "code",
      "metadata": {
        "colab": {
          "base_uri": "https://localhost:8080/"
        },
        "id": "tWcVHNFeABd2",
        "outputId": "dd0936c2-b5d6-459f-a90d-73622a51c859"
      },
      "source": [
        "for x in range(10):\n",
        "  df_2 = calculateRc(dfCRc)\n",
        "  dfCRc = df_2\n",
        "\n",
        "dfCRc.show()"
      ],
      "execution_count": null,
      "outputs": [
        {
          "output_type": "stream",
          "name": "stdout",
          "text": [
            "+--------------------+------------------+\n",
            "|               class|                rc|\n",
            "+--------------------+------------------+\n",
            "|              Parent| 9.890153958986945|\n",
            "|               Woman|13.364492835087617|\n",
            "|          Car Agency| 11.48508958763571|\n",
            "|           Cargo Car| 8.137992903418738|\n",
            "|Closed Car Rental...|15.883551699114841|\n",
            "|Car Needing Maint...|16.583174423346634|\n",
            "|Extented Car Rent...| 7.810991227246802|\n",
            "|                Wife|12.470495287992355|\n",
            "|Maintenance Appoi...| 8.470969378150667|\n",
            "|       Sender Branch|12.827104700100001|\n",
            "|               Child| 9.890153958986945|\n",
            "|  Corporate Customer|15.298230978713248|\n",
            "|            Customer|17.439986021479044|\n",
            "|    Car Manufacturer| 11.48508958763571|\n",
            "|       Passenger Car| 8.137992903418738|\n",
            "|      Insured Driver|10.857173973712811|\n",
            "|             Teenage| 8.083914258423764|\n",
            "|   Organization Unit| 25.07594440807118|\n",
            "|   Insurance Company|11.903213240398719|\n",
            "|        Organization| 52.14204358609324|\n",
            "+--------------------+------------------+\n",
            "only showing top 20 rows\n",
            "\n"
          ]
        }
      ]
    },
    {
      "cell_type": "code",
      "metadata": {
        "colab": {
          "base_uri": "https://localhost:8080/"
        },
        "id": "xIIbnCriQzSG",
        "outputId": "33b3d9ab-76af-492b-85cf-0dd926075222"
      },
      "source": [
        "total = dfCRc.count()\n",
        "\n",
        "dfCRc.sort(dfCRc.rc.desc()).limit(math.trunc(total*0.3)).show()"
      ],
      "execution_count": null,
      "outputs": [
        {
          "output_type": "stream",
          "name": "stdout",
          "text": [
            "+--------------------+------------------+\n",
            "|               class|                rc|\n",
            "+--------------------+------------------+\n",
            "|              Person| 58.56621301707885|\n",
            "|        Organization| 52.14204358609324|\n",
            "|                 Car|50.172404483491434|\n",
            "|      Insurable Item|35.408932797412895|\n",
            "|Car Rental Agreement| 35.26405946969564|\n",
            "|            Employee|34.637064045866346|\n",
            "|              Driver|30.305651953127715|\n",
            "|       Living Person| 26.37007244587739|\n",
            "|   Organization Unit| 25.07594440807118|\n",
            "|      Driver License|22.550770254850256|\n",
            "|      Functional Car|20.225400168337686|\n",
            "|              Branch|  18.0271611581797|\n",
            "|            Customer|17.439986021479044|\n",
            "|Car Needing Maint...|16.583174423346634|\n",
            "|  Car Needing Repair|16.583174423346634|\n",
            "|Closed Car Rental...|15.883551699114841|\n",
            "| Governmental Agency|15.756622447157344|\n",
            "|               Adult|15.640649684772406|\n",
            "|  Corporate Customer|15.298230978713248|\n",
            "|    Rental Insurance|15.175947753076006|\n",
            "+--------------------+------------------+\n",
            "\n"
          ]
        }
      ]
    },
    {
      "cell_type": "code",
      "metadata": {
        "id": "9iCtx02R3tXc"
      },
      "source": [
        "graph_nodes = []\n",
        "for c in dfCRc.sort(dfCRc.rc.desc()).limit(math.trunc(total*0.3)).select('class').collect():\n",
        "  graph_nodes.append(c[\"class\"])"
      ],
      "execution_count": null,
      "outputs": []
    },
    {
      "cell_type": "code",
      "metadata": {
        "id": "n879TZZRP7vI"
      },
      "source": [
        "strenghRelationshipRow=Row(\"type\", \"strength\")\n",
        "sRSeq = []\n",
        "relationshipStrength1 = strenghRelationshipRow('AG', 0.7)\n",
        "relationshipStrength2 = strenghRelationshipRow('DP',0.8)\n",
        "relationshipStrength3 = strenghRelationshipRow('GL', 1.0)\n",
        "relationshipStrength4 = strenghRelationshipRow('AS', 0.5)\n",
        "relationshipStrength5 = strenghRelationshipRow('AGr', 0.7)\n",
        "relationshipStrength6 = strenghRelationshipRow('DPr', 0.8)\n",
        "relationshipStrength7 = strenghRelationshipRow('GLr', 1.0)\n",
        "sRSeq = [relationshipStrength1,relationshipStrength2,relationshipStrength3,relationshipStrength4,relationshipStrength5,relationshipStrength6,relationshipStrength7]\n",
        "dfRS = spark.createDataFrame(sRSeq)"
      ],
      "execution_count": null,
      "outputs": []
    },
    {
      "cell_type": "code",
      "metadata": {
        "colab": {
          "base_uri": "https://localhost:8080/"
        },
        "id": "_lTSceNhi-fl",
        "outputId": "36b16118-a32e-4ea7-f882-6fd570c240ac"
      },
      "source": [
        "dfRS.show()"
      ],
      "execution_count": null,
      "outputs": [
        {
          "output_type": "stream",
          "name": "stdout",
          "text": [
            "+----+--------+\n",
            "|type|strength|\n",
            "+----+--------+\n",
            "|  AG|     0.7|\n",
            "|  DP|     0.8|\n",
            "|  GL|     1.0|\n",
            "|  AS|     0.5|\n",
            "| AGr|     0.7|\n",
            "| DPr|     0.8|\n",
            "| GLr|     1.0|\n",
            "+----+--------+\n",
            "\n"
          ]
        }
      ]
    },
    {
      "cell_type": "code",
      "metadata": {
        "id": "0k1ihhh95438"
      },
      "source": [
        "def strength(sourceClass,targetClass):\n",
        "  sql = \"source == '\" + sourceClass + \"' and target == '\"  + targetClass + \"'\"\n",
        "  if (existsRelationship(sourceClass, targetClass)):\n",
        "    return dfR.join(dfRS, dfR.cd_type == dfRS.type).where(sql).select('strength').first()[0]\n",
        "  return 0"
      ],
      "execution_count": null,
      "outputs": []
    },
    {
      "cell_type": "code",
      "metadata": {
        "id": "YheS31P-2FFB"
      },
      "source": [
        "rowCorr=Row(\"source\", \"target\", \"correlation\", \"path\")\n",
        "sCorrSeq = []\n",
        "dfCorr_schema = StructType([StructField(\"source\", StringType(), True)\\\n",
        "                       ,StructField(\"target\", StringType(), True)\\\n",
        "                       ,StructField(\"correlation\", DoubleType(), True)\\\n",
        "                       ,StructField(\"path\", StringType(), True)\n",
        "])\n",
        "dfCorr = spark.createDataFrame(sCorrSeq, dfCorr_schema)"
      ],
      "execution_count": null,
      "outputs": []
    },
    {
      "cell_type": "code",
      "metadata": {
        "id": "YjEKKgcFZhcM"
      },
      "source": [
        "def getCorrelations(source, target):\n",
        "  return dfCorr.filter(\"source == '\" + source + \"' and target == '\" + target + \"'\").select('source', 'target', 'correlation', 'path').collect()"
      ],
      "execution_count": null,
      "outputs": []
    },
    {
      "cell_type": "code",
      "metadata": {
        "id": "xt8MTL9m2NkR"
      },
      "source": [
        "def existsCorrelation(source, target):\n",
        "  if (dfCorr.filter(\"source == '\" + source + \"' and target == '\" + target + \"'\").count() > 0):\n",
        "    return True\n",
        "  return False\n"
      ],
      "execution_count": null,
      "outputs": []
    },
    {
      "cell_type": "code",
      "metadata": {
        "id": "05EapzvONNMk"
      },
      "source": [
        "def calculateDirectCorrelations(dfCorr):\n",
        "  for l in dfR.join(dfRS, dfRS.type == dfR.cd_type,\"inner\").select('source', 'target', 'strength').withColumnRenamed('strength', 'correlation').withColumn('path', concat_ws('-','source','target')).collect():\n",
        "    line=rowCorr(l.source, l.target, l.correlation, l.path)\n",
        "    sCorrSeq.append(line)\n",
        "  dfCorr = spark.createDataFrame(sCorrSeq, dfCorr_schema)\n",
        "  return dfCorr"
      ],
      "execution_count": null,
      "outputs": []
    },
    {
      "cell_type": "code",
      "metadata": {
        "id": "MlWMNKBcDHCb"
      },
      "source": [
        "def calculateOnLevalCorrelations(dfCorr):\n",
        "  d1 = dfR.join(dfRS, dfRS.type == dfR.cd_type,\"inner\").withColumnRenamed('target','middlea').withColumnRenamed('strength', 'strengtha')\n",
        "  d2 = dfR.join(dfRS, dfRS.type == dfR.cd_type,\"inner\").withColumnRenamed('source', 'middleb').withColumnRenamed('strength', 'strengthb')\n",
        "\n",
        "  d3 = d1.join(d2, d1.middlea == d2.middleb)\n",
        "\n",
        "  for l in d3.select('source', 'target', F.col('strengtha')*F.col('strengthb'),concat_ws('-', 'source', 'middlea', 'target')).toDF('source', 'target', 'correlation','path').collect():\n",
        "    line=rowCorr(l.source, l.target, l.correlation, l.path)\n",
        "    sCorrSeq.append(line)\n",
        "  \n",
        "  dfCorr = spark.createDataFrame(sCorrSeq, dfCorr_schema)\n",
        "  return dfCorr"
      ],
      "execution_count": null,
      "outputs": []
    },
    {
      "cell_type": "code",
      "metadata": {
        "id": "IXOvoX6p173u"
      },
      "source": [
        "def correlation(source, target,dfCorr):\n",
        "  if(not isinstance(source, str)):\n",
        "    source = source.source\n",
        "     \n",
        "  if(not isinstance(target, str)):\n",
        "    target=target.target\n",
        "\n",
        "  if (not existsCorrelation(source, target)):\n",
        "    if (existsRelationship(source, target)):\n",
        "      line=rowCorr(source, target, strength(source, target), source + ' - ' + target)\n",
        "      sCorrSeq.append(line)\n",
        "      dfCorr = spark.createDataFrame(sCorrSeq, dfCorr_schema)\n",
        "      return dfCorr\n",
        "    else:\n",
        "      for next_target in getRelationshipTargets(target):\n",
        "        if(not isinstance(next_target, str)):\n",
        "          next_target = next_target.target\n",
        "        correlation(next_target, target, dfCorr)\n",
        "        listOfCorrelations = getCorrelations(next_target, target)\n",
        "        for loc in listOfCorrelations:\n",
        "          n_corr = strength(source, next_target) * loc.correlation\n",
        "          n_path = loc.path\n",
        "          n_path = source + '-' + n_path\n",
        "          line=rowCorr(source, target, n_corr, n_path)\n",
        "          sCorrSeq.append(line)\n",
        "          dfCorr = spark.createDataFrame(sCorrSeq, dfCorr_schema)\n",
        "          return dfCorr"
      ],
      "execution_count": null,
      "outputs": []
    },
    {
      "cell_type": "code",
      "metadata": {
        "id": "jKWln3B38gvV"
      },
      "source": [
        "dfCorr=calculateDirectCorrelations(dfCorr)\n",
        "\n",
        "dfCorr=calculateOnLevalCorrelations(dfCorr)\n",
        "\n",
        "dfCorrTemp = dfCRc.withColumnRenamed('class', 'source').join(dfCRc.withColumnRenamed('class', 'target')).select('source', 'target').exceptAll(dfCorr.select('source', 'target'))\n",
        "\n",
        "\n",
        "for c in dfCorrTemp.collect():\n",
        "  if(isinstance(c['source'], str)):\n",
        "    src = c['source']\n",
        "  else:\n",
        "    src = c['source'].source\n",
        "     \n",
        "  if(isinstance(c['target'], str)):\n",
        "    tgt = c['target']\n",
        "  else:\n",
        "    print(c['target'])\n",
        "    tgt = c['target'].target\n",
        "\n",
        "  dfCorr=correlation(src,tgt,dfCorr)\n",
        "  \n",
        "\n"
      ],
      "execution_count": null,
      "outputs": []
    },
    {
      "cell_type": "code",
      "metadata": {
        "id": "xFFGDBZw8yU4",
        "colab": {
          "base_uri": "https://localhost:8080/"
        },
        "outputId": "76cdf163-9dcd-4eb3-aa13-10599ec77dba"
      },
      "source": [
        "graph_nodes"
      ],
      "execution_count": null,
      "outputs": [
        {
          "output_type": "execute_result",
          "data": {
            "text/plain": [
              "['Person',\n",
              " 'Organization',\n",
              " 'Car',\n",
              " 'Insurable Item',\n",
              " 'Car Rental Agreement',\n",
              " 'Employee',\n",
              " 'Driver',\n",
              " 'Living Person',\n",
              " 'Organization Unit',\n",
              " 'Driver License',\n",
              " 'Functional Car',\n",
              " 'Branch',\n",
              " 'Customer',\n",
              " 'Car Needing Repair',\n",
              " 'Car Needing Maintenance',\n",
              " 'Closed Car Rental Agreement',\n",
              " 'Governmental Agency',\n",
              " 'Adult',\n",
              " 'Corporate Customer',\n",
              " 'Rental Insurance']"
            ]
          },
          "metadata": {},
          "execution_count": 49
        }
      ]
    },
    {
      "cell_type": "code",
      "metadata": {
        "id": "HgebPNbxYUSM",
        "colab": {
          "base_uri": "https://localhost:8080/"
        },
        "outputId": "d0d7d2e3-b0cc-4116-bfa1-ae7cd9fda4a4"
      },
      "source": [
        "dfCorr.filter(dfCorr.source.isin(graph_nodes)).filter(dfCorr.target.isin(graph_nodes)).filter('correlation > 0.4').show()\n"
      ],
      "execution_count": null,
      "outputs": [
        {
          "output_type": "stream",
          "name": "stdout",
          "text": [
            "+--------------------+--------------------+-----------+--------------------+\n",
            "|              source|              target|correlation|                path|\n",
            "+--------------------+--------------------+-----------+--------------------+\n",
            "|Car Rental Agreement|      Functional Car|        0.5|Car Rental Agreem...|\n",
            "|      Functional Car|Car Rental Agreement|        0.5|Functional Car-Ca...|\n",
            "|    Rental Insurance|Car Rental Agreement|        0.5|Rental Insurance-...|\n",
            "|Car Rental Agreement|    Rental Insurance|        0.5|Car Rental Agreem...|\n",
            "|            Customer|Car Rental Agreement|        0.5|Customer-Car Rent...|\n",
            "|Car Rental Agreement|            Customer|        0.5|Car Rental Agreem...|\n",
            "|              Driver|      Driver License|        0.5|Driver-Driver Lic...|\n",
            "|      Driver License|              Driver|        0.5|Driver License-Dr...|\n",
            "|       Living Person|               Adult|        1.0| Living Person-Adult|\n",
            "|                 Car|Car Needing Maint...|        1.0|Car-Car Needing M...|\n",
            "|      Insurable Item|Car Rental Agreement|        1.0|Insurable Item-Ca...|\n",
            "|                 Car|      Functional Car|        1.0|  Car-Functional Car|\n",
            "|                 Car|  Car Needing Repair|        1.0|Car-Car Needing R...|\n",
            "|               Adult|              Driver|        1.0|        Adult-Driver|\n",
            "|        Organization|  Corporate Customer|        1.0|Organization-Corp...|\n",
            "|      Insurable Item|                 Car|        1.0|  Insurable Item-Car|\n",
            "|            Customer|  Corporate Customer|        1.0|Customer-Corporat...|\n",
            "|      Insurable Item|              Driver|        1.0|Insurable Item-Dr...|\n",
            "|              Person|       Living Person|        1.0|Person-Living Person|\n",
            "|   Organization Unit|              Branch|        1.0|Organization Unit...|\n",
            "+--------------------+--------------------+-----------+--------------------+\n",
            "only showing top 20 rows\n",
            "\n"
          ]
        }
      ]
    },
    {
      "cell_type": "code",
      "metadata": {
        "id": "17nPqld-Ymvp"
      },
      "source": [
        "dfCorr.filter(dfCorr.source.isin(graph_nodes)).filter(dfCorr.target.isin(graph_nodes)).filter('correlation > 0.4').write.csv('relation.csv')"
      ],
      "execution_count": null,
      "outputs": []
    },
    {
      "cell_type": "code",
      "metadata": {
        "id": "pZh7Y_BdMn1Z"
      },
      "source": [
        "dfCRc.sort(dfCRc.rc.desc()).limit(math.trunc(total*0.3)).write.csv('classes.csv')"
      ],
      "execution_count": null,
      "outputs": []
    },
    {
      "cell_type": "code",
      "metadata": {
        "id": "TUuuh3CzV3Sd"
      },
      "source": [
        ""
      ],
      "execution_count": null,
      "outputs": []
    }
  ]
}